{
 "cells": [
  {
   "cell_type": "code",
   "execution_count": null,
   "id": "25b49c77-02e6-44ec-8275-6245e18f0d96",
   "metadata": {
    "microsoft": {
     "language": "python",
     "language_group": "synapse_pyspark"
    }
   },
   "outputs": [],
   "source": [
    "%pip install msfabricpysdkcore --quiet"
   ]
  },
  {
   "cell_type": "code",
   "execution_count": null,
   "id": "d6082758",
   "metadata": {},
   "outputs": [],
   "source": [
    "# Welcome to your new notebook\n",
    "# Type here in the cell editor to add code!\n",
    "from msfabricpysdkcore import FabricClientCore\n",
    "try:\n",
    "    import sempy.fabric as fabric\n",
    "    local = False\n",
    "except:\n",
    "    local = True\n",
    "    from azure.identity import DefaultAzureCredential\n",
    "import pyodbc\n",
    "import struct\n",
    "import pandas as pd\n",
    "from time import sleep"
   ]
  },
  {
   "cell_type": "code",
   "execution_count": null,
   "id": "20a0e3da-9052-4245-a097-90db79f97487",
   "metadata": {
    "microsoft": {
     "language": "python",
     "language_group": "synapse_pyspark"
    }
   },
   "outputs": [],
   "source": [
    "sql_database_name = \"metadatamirroring\"\n",
    "mirrored_db_name = \"snowflakeviewmirror\"\n",
    "\n",
    "sql_database_workspace_id = None#\"141103ea-1119-4e51-9ee2-aa4ffba79577\"\n",
    "mirrored_db_workspace_id = None#\"141103ea-1119-4e51-9ee2-aa4ffba79577\"\n",
    "\n",
    "# If you are running this notebook locally, please set the workspace ID to the one you are using in your Fabric workspace.\n",
    "# If you are running this notebook in Fabric, please leave the workspace ID as None.\n",
    "# The code will automatically get the workspace ID of the workspace you are using for this notebook.\n",
    "\n",
    "if sql_database_workspace_id is None:\n",
    "    sql_database_workspace_id = fabric.get_workspace_id()\n",
    "if mirrored_db_workspace_id is None:\n",
    "    mirrored_db_workspace_id = fabric.get_workspace_id()\n"
   ]
  },
  {
   "cell_type": "code",
   "execution_count": null,
   "id": "5b1b025c",
   "metadata": {},
   "outputs": [],
   "source": [
    "fcc = FabricClientCore()"
   ]
  },
  {
   "cell_type": "code",
   "execution_count": null,
   "id": "fbdaae7d-4596-447e-bdcd-38e2b5c3f216",
   "metadata": {
    "microsoft": {
     "language": "python",
     "language_group": "synapse_pyspark"
    }
   },
   "outputs": [],
   "source": [
    "sql_database_workspace_id = sql_database_workspace_id if sql_database_workspace_id else fabric.get_workspace_id()\n",
    "sql_dbs = fcc.list_sql_databases(workspace_id=sql_database_workspace_id)\n",
    "sql_db = [sql_db for sql_db in sql_dbs if sql_db.display_name == sql_database_name]\n",
    "\n",
    "if len(sql_db) < 1:\n",
    "    sql_db = fcc.create_sql_database(workspace_id=sql_database_workspace_id, display_name = sql_database_name)\n",
    "else:\n",
    "    sql_db = sql_db[0]\n",
    "try:\n",
    "    server = sql_db.properties[\"serverFqdn\"][:-5]\n",
    "    databasename = sql_db.properties[\"databaseName\"]\n",
    "    database = \"{\" + f\"{databasename}\" +\"}\"\n",
    "except:\n",
    "    sleep(10)\n",
    "    sql_database_workspace_id = sql_database_workspace_id if sql_database_workspace_id else fabric.get_workspace_id()\n",
    "    sql_dbs = fcc.list_sql_databases(workspace_id=sql_database_workspace_id)\n",
    "    sql_db = [sql_db for sql_db in sql_dbs if sql_db.display_name == sql_database_name]\n",
    "    sql_db = sql_db[0]"
   ]
  },
  {
   "cell_type": "code",
   "execution_count": null,
   "id": "30891a21-e227-4428-8183-f245dfa7b5ab",
   "metadata": {
    "jupyter": {
     "source_hidden": false
    },
    "microsoft": {
     "language": "python",
     "language_group": "synapse_pyspark"
    }
   },
   "outputs": [],
   "source": [
    "# Get Azure token using DefaultAzureCredential\n",
    "def run_query(server, database, query, query_type=\"SELECT\"):\n",
    "    if local:\n",
    "        # Get Azure token using DefaultAzureCredential\n",
    "        credential = DefaultAzureCredential()\n",
    "        token_bytes = credential.get_token(\"https://database.windows.net/.default\").token.encode(\"UTF-16-LE\")\n",
    "    else:\n",
    "        token_bytes = notebookutils.credentials.getToken(\"https://database.windows.net/.default\").encode(\"UTF-16-LE\")\n",
    "    token_struct = struct.pack(f'<I{len(token_bytes)}s', len(token_bytes), token_bytes)\n",
    "    SQL_COPT_SS_ACCESS_TOKEN = 1256  # This connection option is defined by microsoft in msodbcsql.h\n",
    "\n",
    "    # Connection parameters\n",
    "    connection_string = f\"Driver={{ODBC Driver 18 for SQL Server}};Server={server};Database={database};\"\n",
    "\n",
    "    # Connect with Entra ID (Azure AD) token\n",
    "    conn = pyodbc.connect(connection_string, attrs_before={SQL_COPT_SS_ACCESS_TOKEN: token_struct})\n",
    "    cursor = conn.cursor()\n",
    "\n",
    "    # Test the connection\n",
    "    cursor.execute(query)\n",
    "    if query_type==\"SELECT\":\n",
    "        rows = cursor.fetchall()\n",
    "\n",
    "        column_names = [column[0] for column in cursor.description]\n",
    "        return_value = pd.DataFrame.from_records(rows, columns=column_names)\n",
    "    else:\n",
    "        cursor.execute(\"COMMIT;\")\n",
    "        return_value = \"success\"\n",
    "\n",
    "    # Close the connection\n",
    "    cursor.close()\n",
    "    conn.close()\n",
    "    return return_value\n",
    "    \n"
   ]
  },
  {
   "cell_type": "code",
   "execution_count": null,
   "id": "63cf0271-7710-4c69-88c5-9dbccfb2cbf5",
   "metadata": {
    "microsoft": {
     "language": "python",
     "language_group": "synapse_pyspark"
    }
   },
   "outputs": [],
   "source": [
    "query = \"\"\"\n",
    "CREATE TABLE [dbo].[Metadata](\n",
    "\t[ID] [int] IDENTITY(1,1) NOT NULL,\n",
    "\t[workspace_id] [nvarchar](255) NOT NULL,\n",
    "\t[mirrored_db_id] [nvarchar](255) NOT NULL,\n",
    "\t[snowflake_db] [nvarchar](255) NOT NULL,\n",
    "\t[snowflake_schema] [nvarchar](255) NOT NULL,\n",
    "\t[view_name] [nvarchar](255) NOT NULL,\n",
    "\t[identifiers] [nvarchar](max) NULL,\n",
    "\t[streamable] [nvarchar](255) NOT NULL,\n",
    "\t[status] [nvarchar](30) NOT NULL,\n",
    "\t[keyvault] [nvarchar](30) NOT NULL)\n",
    "\t;\n",
    "\"\"\"\n",
    "run_query(server,database,query,query_type=\"CREATE\")\n"
   ]
  },
  {
   "cell_type": "code",
   "execution_count": null,
   "id": "ae846f12-e43f-4845-bdb5-9c152258dfe1",
   "metadata": {
    "microsoft": {
     "language": "python",
     "language_group": "synapse_pyspark"
    }
   },
   "outputs": [],
   "source": [
    "query = \"\"\"\n",
    "ALTER TABLE [dbo].[Metadata] ADD  DEFAULT ('unknown') FOR [streamable]\"\"\"\n",
    "run_query(server,database,query,query_type=\"CREATE\")"
   ]
  },
  {
   "cell_type": "code",
   "execution_count": null,
   "id": "5188435d-9793-43dd-b9bc-650773b5b0f7",
   "metadata": {
    "microsoft": {
     "language": "python",
     "language_group": "synapse_pyspark"
    }
   },
   "outputs": [],
   "source": [
    "query = \"\"\"\n",
    "ALTER TABLE [dbo].[Metadata] ADD  DEFAULT ('not initialized') FOR [status]\n",
    "\"\"\"\n",
    "run_query(server,database,query,query_type=\"CREATE\")"
   ]
  },
  {
   "cell_type": "code",
   "execution_count": null,
   "id": "0cb01e67-69d7-43af-8c0b-0e4a2391cfd6",
   "metadata": {
    "microsoft": {
     "language": "python",
     "language_group": "synapse_pyspark"
    }
   },
   "outputs": [],
   "source": [
    "query = \"\"\"\n",
    "CREATE TABLE [dbo].[mirroringruns](\n",
    "\t[ID] [int] IDENTITY(1,1) NOT NULL,\n",
    "\t[mirrored_view_id] [nvarchar](255) NOT NULL,\n",
    "    [inserted_rows] [int] NOT NULL,\n",
    "    [deleted_rows] [int] NOT NULL,\n",
    "    [timestamp] [datetime] NOT NULL,\n",
    "    [status] [nvarchar](30) NOT NULL\n",
    ")\"\"\"\n",
    "run_query(server,database,query,query_type=\"CREATE\")"
   ]
  },
  {
   "cell_type": "code",
   "execution_count": null,
   "id": "39692ae5-90d8-402b-b2fb-a194f8c915e6",
   "metadata": {
    "microsoft": {
     "language": "python",
     "language_group": "synapse_pyspark"
    }
   },
   "outputs": [],
   "source": [
    "query = \"\"\" CREATE VIEW summary AS \n",
    "SELECT \n",
    "      m.[workspace_id],\n",
    "      m.[mirrored_db_id],\n",
    "      m.[snowflake_db],\n",
    "      m.[snowflake_schema],\n",
    "      m.[view_name],\n",
    "      SUM(mr.inserted_rows) as sum_inserted_rows,\n",
    "      SUM(mr.deleted_rows) as sum_deleted_rows,\n",
    "      MAX(mr.timestamp) as last_update\n",
    "      FROM [dbo].[Metadata] m\n",
    "LEFT OUTER JOIN [dbo].[mirroringruns] mr ON m.[ID] = mr.[mirrored_view_id]\n",
    "GROUP BY\n",
    "m.[workspace_id],\n",
    "m.[mirrored_db_id],\n",
    "m.[snowflake_db],\n",
    "m.[snowflake_schema],\n",
    "m.[view_name] \n",
    "\"\"\"\n",
    "run_query(server,database,query,query_type=\"CREATE\")"
   ]
  },
  {
   "cell_type": "code",
   "execution_count": null,
   "id": "29ed79ed-7adb-416b-8a62-3cd3bc42ce84",
   "metadata": {
    "microsoft": {
     "language": "python",
     "language_group": "synapse_pyspark"
    }
   },
   "outputs": [],
   "source": [
    "if mirrored_db_name:\n",
    "    mirrored_db_workspace_id = mirrored_db_workspace_id if mirrored_db_workspace_id else fabric.get_workspace_id()\n",
    "    definition = {'parts': [{'path': 'mirroring.json',\n",
    "                                'payload': 'ew0KICAicHJvcGVydGllcyI6IHsNCiAgICAic291cmNlIjogew0KICAgICAgInR5cGUiOiAiR2VuZXJpY01pcnJvciIsDQogICAgICAidHlwZVByb3BlcnRpZXMiOiBudWxsDQogICAgfSwNCiAgICAidGFyZ2V0Ijogew0KICAgICAgInR5cGUiOiAiTW91bnRlZFJlbGF0aW9uYWxEYXRhYmFzZSIsDQogICAgICAidHlwZVByb3BlcnRpZXMiOiB7DQogICAgICAgICJmb3JtYXQiOiAiRGVsdGEiLA0KICAgICAgICAiZGVmYXVsdFNjaGVtYSI6ICJkYm8iDQogICAgICB9DQogICAgfQ0KICB9DQp9',\n",
    "                                'payloadType': 'InlineBase64'},\n",
    "                            {'path': '.platform',\n",
    "                                'payload': 'ewogICIkc2NoZW1hIjogImh0dHBzOi8vZGV2ZWxvcGVyLm1pY3Jvc29mdC5jb20vanNvbi1zY2hlbWFzL2ZhYnJpYy9naXRJbnRlZ3JhdGlvbi9wbGF0Zm9ybVByb3BlcnRpZXMvMi4wLjAvc2NoZW1hLmpzb24iLAogICJtZXRhZGF0YSI6IHsKICAgICJ0eXBlIjogIk1pcnJvcmVkRGF0YWJhc2UiLAogICAgImRpc3BsYXlOYW1lIjogIk1pcnJvcmVkRGF0YWJhc2VfMSIKICB9LAogICJjb25maWciOiB7CiAgICAidmVyc2lvbiI6ICIyLjAiLAogICAgImxvZ2ljYWxJZCI6ICIwMDAwMDAwMC0wMDAwLTAwMDAtMDAwMC0wMDAwMDAwMDAwMDAiCiAgfQp9',\n",
    "                                'payloadType': 'InlineBase64'}]}\n",
    "\n",
    "    mirrored_db = fcc.create_mirrored_database(mirrored_db_workspace_id, mirrored_db_name, definition=definition)\n",
    "mirrored_db.id"
   ]
  }
 ],
 "metadata": {
  "dependencies": {},
  "kernel_info": {
   "name": "synapse_pyspark"
  },
  "kernelspec": {
   "display_name": ".venv",
   "language": "python",
   "name": "python3"
  },
  "language_info": {
   "name": "python",
   "version": "3.11.9"
  },
  "microsoft": {
   "language": "python",
   "language_group": "synapse_pyspark",
   "ms_spell_check": {
    "ms_spell_check_language": "en"
   }
  },
  "nteract": {
   "version": "nteract-front-end@1.0.0"
  },
  "spark_compute": {
   "compute_id": "/trident/default",
   "session_options": {
    "conf": {
     "spark.synapse.nbs.session.timeout": "1200000"
    }
   }
  }
 },
 "nbformat": 4,
 "nbformat_minor": 5
}
